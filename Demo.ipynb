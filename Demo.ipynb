{
  "nbformat": 4,
  "nbformat_minor": 0,
  "metadata": {
    "colab": {
      "name": "hh.ipynb",
      "provenance": [],
      "collapsed_sections": [],
      "include_colab_link": true
    },
    "kernelspec": {
      "name": "python3",
      "display_name": "Python 3"
    },
    "accelerator": "GPU"
  },
  "cells": [
    {
      "cell_type": "markdown",
      "metadata": {
        "id": "view-in-github",
        "colab_type": "text"
      },
      "source": [
        "<a href=\"https://colab.research.google.com/github/phaticusthiccy/Conventer-py-c-js/blob/main/Demo.ipynb\" target=\"_parent\"><img src=\"https://colab.research.google.com/assets/colab-badge.svg\" alt=\"Open In Colab\"/></a>"
      ]
    },
    {
      "cell_type": "code",
      "metadata": {
        "id": "pafSUiQuOsF9"
      },
      "source": [
        "import os"
      ],
      "execution_count": null,
      "outputs": []
    },
    {
      "cell_type": "code",
      "metadata": {
        "id": "FHYOP8iUBWeA"
      },
      "source": [
        "!pip install six\n",
        "!pip install sacrebleu==\"1.2.11\""
      ],
      "execution_count": null,
      "outputs": []
    },
    {
      "cell_type": "code",
      "metadata": {
        "id": "Sb0k-UiGBbXK"
      },
      "source": [
        "!pip install submitit\n",
        "!pip install clang"
      ],
      "execution_count": null,
      "outputs": []
    },
    {
      "cell_type": "code",
      "metadata": {
        "id": "P34fJMt-RY-V"
      },
      "source": [
        "# !sudo pip install clang\n",
        "! cd /usr/lib/x86_64-linux-gnu/\n",
        "! sudo ln -s libclang-6.0.so.1 libclang.so\n",
        "# ! cp libclang-6.0.so.1 libclang.so"
      ],
      "execution_count": null,
      "outputs": []
    },
    {
      "cell_type": "code",
      "metadata": {
        "id": "pViWffR7BmxX"
      },
      "source": [
        "!git clone https://github.com/glample/fastBPE"
      ],
      "execution_count": null,
      "outputs": []
    },
    {
      "cell_type": "code",
      "metadata": {
        "id": "lex2TZ05BrkD"
      },
      "source": [
        "os.chdir(\"fastBPE\")"
      ],
      "execution_count": null,
      "outputs": []
    },
    {
      "cell_type": "code",
      "metadata": {
        "id": "u-sF3DvIByJT"
      },
      "source": [
        "!python setup.py install"
      ],
      "execution_count": null,
      "outputs": []
    },
    {
      "cell_type": "code",
      "metadata": {
        "id": "p-Z1GJMJBynd"
      },
      "source": [
        "os.chdir(\"..\")"
      ],
      "execution_count": null,
      "outputs": []
    },
    {
      "cell_type": "code",
      "metadata": {
        "id": "u0d1S_ZkB3CD"
      },
      "source": [
        "! git clone https://github.com/NVIDIA/apex"
      ],
      "execution_count": null,
      "outputs": []
    },
    {
      "cell_type": "code",
      "metadata": {
        "id": "znkyngdCB8gl"
      },
      "source": [
        "os.chdir(\"apex\")\n",
        "!pip install -v --no-cache-dir ./"
      ],
      "execution_count": null,
      "outputs": []
    },
    {
      "cell_type": "code",
      "metadata": {
        "id": "gzYs504FPUMw"
      },
      "source": [
        "os.chdir(\"..\")"
      ],
      "execution_count": null,
      "outputs": []
    },
    {
      "cell_type": "code",
      "metadata": {
        "id": "1ufqBHArCD58"
      },
      "source": [
        "!git clone https://github.com/facebookresearch/TransCoder.git"
      ],
      "execution_count": null,
      "outputs": []
    },
    {
      "cell_type": "code",
      "metadata": {
        "id": "UVKkPhHYGgUO"
      },
      "source": [
        "!wget https://dl.fbaipublicfiles.com/transcoder/model_2.pth"
      ],
      "execution_count": null,
      "outputs": []
    },
    {
      "cell_type": "code",
      "metadata": {
        "id": "japt1zVvGl9a"
      },
      "source": [
        "!python TransCoder/translate.py --src_lang python --tgt_lang java \\\\\n",
        "--BPE_path TransCoder/data/BPE_with_comments_codes --model_path model_2.pth < max_inp.py"
      ],
      "execution_count": null,
      "outputs": []
    },
    {
      "cell_type": "code",
      "metadata": {
        "id": "1xPAv-7-P9Cg"
      },
      "source": [
        ""
      ],
      "execution_count": null,
      "outputs": []
    },
    {
      "cell_type": "code",
      "metadata": {
        "id": "zlDCl3_FQXqs"
      },
      "source": [
        ""
      ],
      "execution_count": null,
      "outputs": []
    }
  ]
}
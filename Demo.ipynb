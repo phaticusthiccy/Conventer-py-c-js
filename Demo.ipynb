{

  "nbformat": 4,

  "nbformat_minor": 0,

  "metadata": {

    "colab": {

      "name": "hh.ipynb",

      "provenance": [],

      "collapsed_sections": []

    },

    "kernelspec": {

      "name": "python3",

      "display_name": "Python 3"

    },

    "accelerator": "GPU"

  },

  "cells": [

    {

      "cell_type": "code",

      "metadata": {

        "id": "pafSUiQuOsF9",

        "colab_type": "code",

        "colab": {}

      },

      "source": [

        "import os"

      ],

      "execution_count": null,

      "outputs": []

    },

    {

      "cell_type": "code",

      "metadata": {

        "id": "FHYOP8iUBWeA",

        "colab_type": "code",

        "colab": {

          "base_uri": "https://localhost:8080/",

          "height": 401

        },

        "outputId": "b17e3a7a-299c-416f-90fc-85a53c72412b"

      },

      "source": [

        "!pip install six\n",

        "!pip install sacrebleu==\"1.2.11\""

      ],

      "execution_count": null,

      "outputs": [

        {

          "output_type": "stream",

          "text": [

            "Requirement already satisfied: six in /usr/local/lib/python3.6/dist-packages (1.15.0)\n",

            "Collecting sacrebleu==1.2.11\n",

            "  Downloading https://files.pythonhosted.org/packages/0d/fb/ad7d721fbeeba9e2fe459f489f38a792ca1e5f5b61f09e608f22f400ca66/sacrebleu-1.2.11.tar.gz\n",

            "Collecting typing\n",

            "\u001b[?25l  Downloading https://files.pythonhosted.org/packages/05/d9/6eebe19d46bd05360c9a9aae822e67a80f9242aabbfc58b641b957546607/typing-3.7.4.3.tar.gz (78kB)\n",

            "\u001b[K     |████████████████████████████████| 81kB 3.0MB/s \n",

            "\u001b[?25hBuilding wheels for collected packages: sacrebleu, typing\n",

            "  Building wheel for sacrebleu (setup.py) ... \u001b[?25l\u001b[?25hdone\n",

            "  Created wheel for sacrebleu: filename=sacrebleu-1.2.11-cp36-none-any.whl size=18641 sha256=92085d7e306ce9db2604b2ca2f9c54813d82f73c27e39683181cb7ff9e72b76c\n",

            "  Stored in directory: /root/.cache/pip/wheels/93/0f/06/e1c5dcbca58e907c17b59be8e1f10ae4e43bb1fb68197a8d7c\n",

            "  Building wheel for typing (setup.py) ... \u001b[?25l\u001b[?25hdone\n",

            "  Created wheel for typing: filename=typing-3.7.4.3-cp36-none-any.whl size=26309 sha256=db99aae55a8f7074833c9d6649409379c8b2612ac02a540f8003a01d1f0bf30b\n",

            "  Stored in directory: /root/.cache/pip/wheels/2d/04/41/8e1836e79581989c22eebac3f4e70aaac9af07b0908da173be\n",

            "Successfully built sacrebleu typing\n",

            "Installing collected packages: typing, sacrebleu\n",

            "Successfully installed sacrebleu-1.2.11 typing-3.7.4.3\n"

          ],

          "name": "stdout"

        },

        {

          "output_type": "display_data",

          "data": {

            "application/vnd.colab-display-data+json": {

              "pip_warning": {

                "packages": [

                  "typing"

                ]

              }

            }

          },

          "metadata": {

            "tags": []

          }

        }

      ]

    },

    {

      "cell_type": "code",

      "metadata": {

        "id": "Sb0k-UiGBbXK",

        "colab_type": "code",

        "colab": {

          "base_uri": "https://localhost:8080/",

          "height": 228

        },

        "outputId": "abd6e8af-7e74-4073-a5dc-017bc37fbf90"

      },

      "source": [

        "!pip install submitit\n",

        "!pip install clang"

      ],

      "execution_count": null,

      "outputs": [

        {

          "output_type": "stream",

          "text": [

            "Collecting submitit\n",

            "\u001b[?25l  Downloading https://files.pythonhosted.org/packages/68/b9/43ea5d1933fd448c000fa79c8ff747e46a0a245ac5c9a45c0d3cd2c545bc/submitit-1.0.0-py3-none-any.whl (58kB)\n",

            "\r\u001b[K     |█████▋                          | 10kB 19.2MB/s eta 0:00:01\r\u001b[K     |███████████▏                    | 20kB 1.7MB/s eta 0:00:01\r\u001b[K     |████████████████▉               | 30kB 2.2MB/s eta 0:00:01\r\u001b[K     |██████████████████████▍         | 40kB 2.4MB/s eta 0:00:01\r\u001b[K     |████████████████████████████    | 51kB 1.9MB/s eta 0:00:01\r\u001b[K     |████████████████████████████████| 61kB 1.7MB/s \n",

            "\u001b[?25hRequirement already satisfied: cloudpickle>=1.2.1 in /usr/local/lib/python3.6/dist-packages (from submitit) (1.3.0)\n",

            "Requirement already satisfied: typing-extensions>=3.7.4.2 in /usr/local/lib/python3.6/dist-packages (from submitit) (3.7.4.2)\n",

            "Installing collected packages: submitit\n",

            "Successfully installed submitit-1.0.0\n",

            "Collecting clang\n",

            "  Downloading https://files.pythonhosted.org/packages/6d/d7/40cdcb82d072cd1c5e3f7ce249a9dfbd8d7d2194d3f0885b5eaa8f310f2b/clang-6.0.0.2-py2.py3-none-any.whl\n",

            "Installing collected packages: clang\n",

            "Successfully installed clang-6.0.0.2\n"

          ],

          "name": "stdout"

        }

      ]

    },

    {

      "cell_type": "code",

      "metadata": {

        "id": "P34fJMt-RY-V",

        "colab_type": "code",

        "colab": {}

      },

      "source": [

        "# !sudo pip install clang\n",

        "! cd /usr/lib/x86_64-linux-gnu/\n",

        "! sudo ln -s libclang-6.0.so.1 libclang.so\n",

        "# ! cp libclang-6.0.so.1 libclang.so"

      ],

      "execution_count": null,

      "outputs": []

    },

    {

      "cell_type": "code",

      "metadata": {

        "id": "3TUjtb9QRsZ4",

        "colab_type": "code",

        "colab": {}

      },

      "source": [

        ""

      ],

      "execution_count": null,

      "outputs": []

    },

    {

      "cell_type": "code",

      "metadata": {

        "id": "pViWffR7BmxX",

        "colab_type": "code",

        "colab": {

          "base_uri": "https://localhost:8080/",

          "height": 121

        },

        "outputId": "9dd9d858-6071-4ae0-e40c-d75b184fd023"

      },

      "source": [

        "!git clone https://github.com/glample/fastBPE"

      ],

      "execution_count": null,

      "outputs": [

        {

          "output_type": "stream",

          "text": [

            "Cloning into 'fastBPE'...\n",

            "remote: Enumerating objects: 5, done.\u001b[K\n",

            "remote: Counting objects: 100% (5/5), done.\u001b[K\n",

            "remote: Compressing objects: 100% (5/5), done.\u001b[K\n",

            "remote: Total 59 (delta 0), reused 1 (delta 0), pack-reused 54\u001b[K\n",

            "Unpacking objects: 100% (59/59), done.\n"

          ],

          "name": "stdout"

        }

      ]

    },

    {

      "cell_type": "code",

      "metadata": {

        "id": "lex2TZ05BrkD",

        "colab_type": "code",

        "colab": {}

      },

      "source": [

        "os.chdir(\"fastBPE\")"

      ],

      "execution_count": null,

      "outputs": []

    },

    {

      "cell_type": "code",

      "metadata": {

        "id": "u-sF3DvIByJT",

        "colab_type": "code",

        "colab": {

          "base_uri": "https://localhost:8080/",

          "height": 869

        },

        "outputId": "48dd14d5-ce98-4a99-f40b-1e446faa483e"

      },

      "source": [

        "!python setup.py install"

      ],

      "execution_count": null,

      "outputs": [

        {

          "output_type": "stream",

          "text": [

            "Compiling fastBPE/fastBPE.pyx because it changed.\n",

            "[1/1] Cythonizing fastBPE/fastBPE.pyx\n",

            "running install\n",

            "running bdist_egg\n",

            "running egg_info\n",

            "creating fastBPE.egg-info\n",

            "writing fastBPE.egg-info/PKG-INFO\n",

            "writing dependency_links to fastBPE.egg-info/dependency_links.txt\n",

            "writing top-level names to fastBPE.egg-info/top_level.txt\n",

            "writing manifest file 'fastBPE.egg-info/SOURCES.txt'\n",

            "package init file 'fastBPE/__init__.py' not found (or not a regular file)\n",

            "reading manifest template 'MANIFEST.in'\n",

            "writing manifest file 'fastBPE.egg-info/SOURCES.txt'\n",

            "installing library code to build/bdist.linux-x86_64/egg\n",

            "running install_lib\n",

            "running build_py\n",

            "running build_ext\n",

            "building 'fastBPE' extension\n",

            "creating build\n",

            "creating build/temp.linux-x86_64-3.6\n",

            "creating build/temp.linux-x86_64-3.6/fastBPE\n",

            "x86_64-linux-gnu-gcc -pthread -DNDEBUG -g -fwrapv -O2 -Wall -g -fstack-protector-strong -Wformat -Werror=format-security -Wdate-time -D_FORTIFY_SOURCE=2 -fPIC -IfastBPE -I/usr/include/python3.6m -c fastBPE/fastBPE.cpp -o build/temp.linux-x86_64-3.6/fastBPE/fastBPE.o -std=c++11 -Ofast -pthread\n",

            "creating build/lib.linux-x86_64-3.6\n",

            "x86_64-linux-gnu-g++ -pthread -shared -Wl,-O1 -Wl,-Bsymbolic-functions -Wl,-Bsymbolic-functions -Wl,-z,relro -Wl,-Bsymbolic-functions -Wl,-z,relro -g -fstack-protector-strong -Wformat -Werror=format-security -Wdate-time -D_FORTIFY_SOURCE=2 build/temp.linux-x86_64-3.6/fastBPE/fastBPE.o -o build/lib.linux-x86_64-3.6/fastBPE.cpython-36m-x86_64-linux-gnu.so\n",

            "creating build/bdist.linux-x86_64\n",

            "creating build/bdist.linux-x86_64/egg\n",

            "copying build/lib.linux-x86_64-3.6/fastBPE.cpython-36m-x86_64-linux-gnu.so -> build/bdist.linux-x86_64/egg\n",

            "creating stub loader for fastBPE.cpython-36m-x86_64-linux-gnu.so\n",

            "byte-compiling build/bdist.linux-x86_64/egg/fastBPE.py to fastBPE.cpython-36.pyc\n",

            "creating build/bdist.linux-x86_64/egg/EGG-INFO\n",

            "copying fastBPE.egg-info/PKG-INFO -> build/bdist.linux-x86_64/egg/EGG-INFO\n",

            "copying fastBPE.egg-info/SOURCES.txt -> build/bdist.linux-x86_64/egg/EGG-INFO\n",

            "copying fastBPE.egg-info/dependency_links.txt -> build/bdist.linux-x86_64/egg/EGG-INFO\n",

            "copying fastBPE.egg-info/top_level.txt -> build/bdist.linux-x86_64/egg/EGG-INFO\n",

            "writing build/bdist.linux-x86_64/egg/EGG-INFO/native_libs.txt\n",

            "zip_safe flag not set; analyzing archive contents...\n",

            "__pycache__.fastBPE.cpython-36: module references __file__\n",

            "creating dist\n",

            "creating 'dist/fastBPE-0.1.1-py3.6-linux-x86_64.egg' and adding 'build/bdist.linux-x86_64/egg' to it\n",

            "removing 'build/bdist.linux-x86_64/egg' (and everything under it)\n",

            "Processing fastBPE-0.1.1-py3.6-linux-x86_64.egg\n",

            "creating /usr/local/lib/python3.6/dist-packages/fastBPE-0.1.1-py3.6-linux-x86_64.egg\n",

            "Extracting fastBPE-0.1.1-py3.6-linux-x86_64.egg to /usr/local/lib/python3.6/dist-packages\n",

            "Adding fastBPE 0.1.1 to easy-install.pth file\n",

            "\n",

            "Installed /usr/local/lib/python3.6/dist-packages/fastBPE-0.1.1-py3.6-linux-x86_64.egg\n",

            "Processing dependencies for fastBPE==0.1.1\n",

            "Finished processing dependencies for fastBPE==0.1.1\n"

          ],

          "name": "stdout"

        }

      ]

    },

    {

      "cell_type": "code",

      "metadata": {

        "id": "p-Z1GJMJBynd",

        "colab_type": "code",

        "colab": {}

      },

      "source": [

        "os.chdir(\"..\")"

      ],

      "execution_count": null,

      "outputs": []

    },

    {

      "cell_type": "code",

      "metadata": {

        "id": "u0d1S_ZkB3CD",

        "colab_type": "code",

        "colab": {

          "base_uri": "https://localhost:8080/",

          "height": 139

        },

        "outputId": "43919220-c94c-49a0-abd2-801205017b39"

      },

      "source": [

        "! git clone https://github.com/NVIDIA/apex"

      ],

      "execution_count": null,

      "outputs": [

        {

          "output_type": "stream",

          "text": [

            "Cloning into 'apex'...\n",

            "remote: Enumerating objects: 16, done.\u001b[K\n",

            "remote: Counting objects: 100% (16/16), done.\u001b[K\n",

            "remote: Compressing objects: 100% (16/16), done.\u001b[K\n",

            "remote: Total 7416 (delta 1), reused 1 (delta 0), pack-reused 7400\u001b[K\n",

            "Receiving objects: 100% (7416/7416), 13.91 MiB | 7.17 MiB/s, done.\n",

            "Resolving deltas: 100% (5000/5000), done.\n"

          ],

          "name": "stdout"

        }

      ]

    },

    {

      "cell_type": "code",

      "metadata": {

        "id": "znkyngdCB8gl",

        "colab_type": "code",

        "colab": {

          "base_uri": "https://localhost:8080/",

          "height": 1000

        },

        "outputId": "2fe65343-4e6b-4d12-b8f6-ec362876650a"

      },

      "source": [

        "os.chdir(\"apex\")\n",

        "!pip install -v --no-cache-dir ./"

      ],

      "execution_count": null,

      "outputs": [

        {

          "output_type": "stream",

          "text": [

            "Created temporary directory: /tmp/pip-ephem-wheel-cache-7bgnx1wm\n",

            "Created temporary directory: /tmp/pip-req-tracker-ua6a5f9h\n",

            "Created requirements tracker '/tmp/pip-req-tracker-ua6a5f9h'\n",

            "Created temporary directory: /tmp/pip-install-2boux779\n",

            "Processing /content/apex\n",

            "  Created temporary directory: /tmp/pip-req-build-0ifs7p2f\n",

            "  Added file:///content/apex to build tracker '/tmp/pip-req-tracker-ua6a5f9h'\n",

            "    Running setup.py (path:/tmp/pip-req-build-0ifs7p2f/setup.py) egg_info for package from file:///content/apex\n",

            "    Running command python setup.py egg_info\n",

            "\n",

            "\n",

            "    torch.__version__  = 1.6.0+cu101\n",

            "\n",

            "\n",

            "    running egg_info\n",

            "    creating /tmp/pip-req-build-0ifs7p2f/pip-egg-info/apex.egg-info\n",

            "    writing /tmp/pip-req-build-0ifs7p2f/pip-egg-info/apex.egg-info/PKG-INFO\n",

            "    writing dependency_links to /tmp/pip-req-build-0ifs7p2f/pip-egg-info/apex.egg-info/dependency_links.txt\n",

            "    writing top-level names to /tmp/pip-req-build-0ifs7p2f/pip-egg-info/apex.egg-info/top_level.txt\n",

            "    writing manifest file '/tmp/pip-req-build-0ifs7p2f/pip-egg-info/apex.egg-info/SOURCES.txt'\n",

            "    writing manifest file '/tmp/pip-req-build-0ifs7p2f/pip-egg-info/apex.egg-info/SOURCES.txt'\n",

            "    /tmp/pip-req-build-0ifs7p2f/setup.py:67: UserWarning: Option --pyprof not specified. Not installing PyProf dependencies!\n",

            "      warnings.warn(\"Option --pyprof not specified. Not installing PyProf dependencies!\")\n",

            "  Source in /tmp/pip-req-build-0ifs7p2f has version 0.1, which satisfies requirement apex==0.1 from file:///content/apex\n",

            "  Removed apex==0.1 from file:///content/apex from build tracker '/tmp/pip-req-tracker-ua6a5f9h'\n",

            "Building wheels for collected packages: apex\n",

            "  Created temporary directory: /tmp/pip-wheel-5uhcb6ds\n",

            "  Building wheel for apex (setup.py) ... \u001b[?25l  Destination directory: /tmp/pip-wheel-5uhcb6ds\n",

            "  Running command /usr/bin/python3 -u -c 'import sys, setuptools, tokenize; sys.argv[0] = '\"'\"'/tmp/pip-req-build-0ifs7p2f/setup.py'\"'\"'; __file__='\"'\"'/tmp/pip-req-build-0ifs7p2f/setup.py'\"'\"';f=getattr(tokenize, '\"'\"'open'\"'\"', open)(__file__);code=f.read().replace('\"'\"'\\r\\n'\"'\"', '\"'\"'\\n'\"'\"');f.close();exec(compile(code, __file__, '\"'\"'exec'\"'\"'))' bdist_wheel -d /tmp/pip-wheel-5uhcb6ds --python-tag cp36\n",

            "\n",

            "\n",

            "  torch.__version__  = 1.6.0+cu101\n",

            "\n",

            "\n",

            "  /tmp/pip-req-build-0ifs7p2f/setup.py:67: UserWarning: Option --pyprof not specified. Not installing PyProf dependencies!\n",

            "    warnings.warn(\"Option --pyprof not specified. Not installing PyProf dependencies!\")\n",

            "  running bdist_wheel\n",

            "  running build\n",

            "  running build_py\n",

            "  creating build\n",

            "  creating build/lib\n",

            "  creating build/lib/apex\n",

            "  copying apex/__init__.py -> build/lib/apex\n",

            "  creating build/lib/apex/reparameterization\n",

            "  copying apex/reparameterization/weight_norm.py -> build/lib/apex/reparameterization\n",

            "  copying apex/reparameterization/reparameterization.py -> build/lib/apex/reparameterization\n",

            "  copying apex/reparameterization/__init__.py -> build/lib/apex/reparameterization\n",

            "  creating build/lib/apex/pyprof\n",

            "  copying apex/pyprof/__init__.py -> build/lib/apex/pyprof\n",

            "  creating build/lib/apex/multi_tensor_apply\n",

            "  copying apex/multi_tensor_apply/multi_tensor_apply.py -> build/lib/apex/multi_tensor_apply\n",

            "  copying apex/multi_tensor_apply/__init__.py -> build/lib/apex/multi_tensor_apply\n",

            "  creating build/lib/apex/RNN\n",

            "  copying apex/RNN/cells.py -> build/lib/apex/RNN\n",

            "  copying apex/RNN/RNNBackend.py -> build/lib/apex/RNN\n",

            "  copying apex/RNN/__init__.py -> build/lib/apex/RNN\n",

            "  copying apex/RNN/models.py -> build/lib/apex/RNN\n",

            "  creating build/lib/apex/parallel\n",

            "  copying apex/parallel/sync_batchnorm_kernel.py -> build/lib/apex/parallel\n",

            "  copying apex/parallel/LARC.py -> build/lib/apex/parallel\n",

            "  copying apex/parallel/multiproc.py -> build/lib/apex/parallel\n",

            "  copying apex/parallel/optimized_sync_batchnorm_kernel.py -> build/lib/apex/parallel\n",

            "  copying apex/parallel/distributed.py -> build/lib/apex/parallel\n",

            "  copying apex/parallel/__init__.py -> build/lib/apex/parallel\n",

            "  copying apex/parallel/optimized_sync_batchnorm.py -> build/lib/apex/parallel\n",

            "  copying apex/parallel/sync_batchnorm.py -> build/lib/apex/parallel\n",

            "  creating build/lib/apex/amp\n",

            "  copying apex/amp/handle.py -> build/lib/apex/amp\n",

            "  copying apex/amp/frontend.py -> build/lib/apex/amp\n",

            "  copying apex/amp/_amp_state.py -> build/lib/apex/amp\n",

            "  copying apex/amp/scaler.py -> build/lib/apex/amp\n",

            "  copying apex/amp/_initialize.py -> build/lib/apex/amp\n",

            "  copying apex/amp/wrap.py -> build/lib/apex/amp\n",

            "  copying apex/amp/_process_optimizer.py -> build/lib/apex/amp\n",

            "  copying apex/amp/rnn_compat.py -> build/lib/apex/amp\n",

            "  copying apex/amp/amp.py -> build/lib/apex/amp\n",

            "  copying apex/amp/compat.py -> build/lib/apex/amp\n",

            "  copying apex/amp/utils.py -> build/lib/apex/amp\n",

            "  copying apex/amp/__version__.py -> build/lib/apex/amp\n",

            "  copying apex/amp/__init__.py -> build/lib/apex/amp\n",

            "  copying apex/amp/opt.py -> build/lib/apex/amp\n",

            "  creating build/lib/apex/mlp\n",

            "  copying apex/mlp/mlp.py -> build/lib/apex/mlp\n",

            "  copying apex/mlp/__init__.py -> build/lib/apex/mlp\n",

            "  creating build/lib/apex/contrib\n",

            "  copying apex/contrib/__init__.py -> build/lib/apex/contrib\n",

            "  creating build/lib/apex/optimizers\n",

            "  copying apex/optimizers/fused_lamb.py -> build/lib/apex/optimizers\n",

            "  copying apex/optimizers/fused_sgd.py -> build/lib/apex/optimizers\n",

            "  copying apex/optimizers/fused_adagrad.py -> build/lib/apex/optimizers\n",

            "  copying apex/optimizers/fused_novograd.py -> build/lib/apex/optimizers\n",

            "  copying apex/optimizers/fused_adam.py -> build/lib/apex/optimizers\n",

            "  copying apex/optimizers/__init__.py -> build/lib/apex/optimizers\n",

            "  creating build/lib/apex/normalization\n",

            "  copying apex/normalization/fused_layer_norm.py -> build/lib/apex/normalization\n",

            "  copying apex/normalization/__init__.py -> build/lib/apex/normalization\n",

            "  creating build/lib/apex/fp16_utils\n",

            "  copying apex/fp16_utils/loss_scaler.py -> build/lib/apex/fp16_utils\n",

            "  copying apex/fp16_utils/fp16_optimizer.py -> build/lib/apex/fp16_utils\n",

            "  copying apex/fp16_utils/__init__.py -> build/lib/apex/fp16_utils\n",

            "  copying apex/fp16_utils/fp16util.py -> build/lib/apex/fp16_utils\n",

            "  creating build/lib/apex/pyprof/nvtx\n",

            "  copying apex/pyprof/nvtx/nvmarker.py -> build/lib/apex/pyprof/nvtx\n",

            "  copying apex/pyprof/nvtx/__init__.py -> build/lib/apex/pyprof/nvtx\n",

            "  creating build/lib/apex/pyprof/prof\n",

            "  copying apex/pyprof/prof/reduction.py -> build/lib/apex/pyprof/prof\n",

            "  copying apex/pyprof/prof/conv.py -> build/lib/apex/pyprof/prof\n",

            "  copying apex/pyprof/prof/linear.py -> build/lib/apex/pyprof/prof\n",

            "  copying apex/pyprof/prof/usage.py -> build/lib/apex/pyprof/prof\n",

            "  copying apex/pyprof/prof/output.py -> build/lib/apex/pyprof/prof\n",

            "  copying apex/pyprof/prof/__main__.py -> build/lib/apex/pyprof/prof\n",

            "  copying apex/pyprof/prof/embedding.py -> build/lib/apex/pyprof/prof\n",

            "  copying apex/pyprof/prof/data.py -> build/lib/apex/pyprof/prof\n",

            "  copying apex/pyprof/prof/softmax.py -> build/lib/apex/pyprof/prof\n",

            "  copying apex/pyprof/prof/base.py -> build/lib/apex/pyprof/prof\n",

            "  copying apex/pyprof/prof/randomSample.py -> build/lib/apex/pyprof/prof\n",

            "  copying apex/pyprof/prof/normalization.py -> build/lib/apex/pyprof/prof\n",

            "  copying apex/pyprof/prof/pointwise.py -> build/lib/apex/pyprof/prof\n",

            "  copying apex/pyprof/prof/convert.py -> build/lib/apex/pyprof/prof\n",

            "  copying apex/pyprof/prof/optim.py -> build/lib/apex/pyprof/prof\n",

            "  copying apex/pyprof/prof/prof.py -> build/lib/apex/pyprof/prof\n",

            "  copying apex/pyprof/prof/blas.py -> build/lib/apex/pyprof/prof\n",

            "  copying apex/pyprof/prof/activation.py -> build/lib/apex/pyprof/prof\n",

            "  copying apex/pyprof/prof/recurrentCell.py -> build/lib/apex/pyprof/prof\n",

            "  copying apex/pyprof/prof/__init__.py -> build/lib/apex/pyprof/prof\n",

            "  copying apex/pyprof/prof/misc.py -> build/lib/apex/pyprof/prof\n",

            "  copying apex/pyprof/prof/loss.py -> build/lib/apex/pyprof/prof\n",

            "  copying apex/pyprof/prof/utility.py -> build/lib/apex/pyprof/prof\n",

            "  copying apex/pyprof/prof/pooling.py -> build/lib/apex/pyprof/prof\n",

            "  copying apex/pyprof/prof/dropout.py -> build/lib/apex/pyprof/prof\n",

            "  copying apex/pyprof/prof/index_slice_join_mutate.py -> build/lib/apex/pyprof/prof\n",

            "  creating build/lib/apex/pyprof/parse\n",

            "  copying apex/pyprof/parse/nvvp.py -> build/lib/apex/pyprof/parse\n",

            "  copying apex/pyprof/parse/__main__.py -> build/lib/apex/pyprof/parse\n",

            "  copying apex/pyprof/parse/parse.py -> build/lib/apex/pyprof/parse\n",

            "  copying apex/pyprof/parse/db.py -> build/lib/apex/pyprof/parse\n",

            "  copying apex/pyprof/parse/kernel.py -> build/lib/apex/pyprof/parse\n",

            "  copying apex/pyprof/parse/__init__.py -> build/lib/apex/pyprof/parse\n",

            "  creating build/lib/apex/amp/lists\n",

            "  copying apex/amp/lists/tensor_overrides.py -> build/lib/apex/amp/lists\n",

            "  copying apex/amp/lists/functional_overrides.py -> build/lib/apex/amp/lists\n",

            "  copying apex/amp/lists/torch_overrides.py -> build/lib/apex/amp/lists\n",

            "  copying apex/amp/lists/__init__.py -> build/lib/apex/amp/lists\n",

            "  creating build/lib/apex/contrib/xentropy\n",

            "  copying apex/contrib/xentropy/__init__.py -> build/lib/apex/contrib/xentropy\n",

            "  copying apex/contrib/xentropy/softmax_xentropy.py -> build/lib/apex/contrib/xentropy\n",

            "  creating build/lib/apex/contrib/sparsity\n",

            "  copying apex/contrib/sparsity/__init__.py -> build/lib/apex/contrib/sparsity\n",

            "  copying apex/contrib/sparsity/sparse_masklib.py -> build/lib/apex/contrib/sparsity\n",

            "  copying apex/contrib/sparsity/asp.py -> build/lib/apex/contrib/sparsity\n",

            "  creating build/lib/apex/contrib/multihead_attn\n",

            "  copying apex/contrib/multihead_attn/self_multihead_attn.py -> build/lib/apex/contrib/multihead_attn\n",

            "  copying apex/contrib/multihead_attn/mask_softmax_dropout_func.py -> build/lib/apex/contrib/multihead_attn\n",

            "  copying apex/contrib/multihead_attn/self_multihead_attn_func.py -> build/lib/apex/contrib/multihead_attn\n",

            "  copying apex/contrib/multihead_attn/encdec_multihead_attn.py -> build/lib/apex/contrib/multihead_attn\n",

            "  copying apex/contrib/multihead_attn/fast_encdec_multihead_attn_func.py -> build/lib/apex/contrib/multihead_attn\n",

            "  copying apex/contrib/multihead_attn/fast_encdec_multihead_attn_norm_add_func.py -> build/lib/apex/contrib/multihead_attn\n",

            "  copying apex/contrib/multihead_attn/fast_self_multihead_attn_func.py -> build/lib/apex/contrib/multihead_attn\n",

            "  copying apex/contrib/multihead_attn/__init__.py -> build/lib/apex/contrib/multihead_attn\n",

            "  copying apex/contrib/multihead_attn/encdec_multihead_attn_func.py -> build/lib/apex/contrib/multihead_attn\n",

            "  copying apex/contrib/multihead_attn/fast_self_multihead_attn_norm_add_func.py -> build/lib/apex/contrib/multihead_attn\n",

            "  creating build/lib/apex/contrib/groupbn\n",

            "  copying apex/contrib/groupbn/batch_norm.py -> build/lib/apex/contrib/groupbn\n",

            "  copying apex/contrib/groupbn/__init__.py -> build/lib/apex/contrib/groupbn\n",

            "  creating build/lib/apex/contrib/optimizers\n",

            "  copying apex/contrib/optimizers/distributed_fused_adam.py -> build/lib/apex/contrib/optimizers\n",

            "  copying apex/contrib/optimizers/fused_lamb.py -> build/lib/apex/contrib/optimizers\n",

            "  copying apex/contrib/optimizers/fused_sgd.py -> build/lib/apex/contrib/optimizers\n",

            "  copying apex/contrib/optimizers/distributed_fused_lamb.py -> build/lib/apex/contrib/optimizers\n",

            "  copying apex/contrib/optimizers/fp16_optimizer.py -> build/lib/apex/contrib/optimizers\n",

            "  copying apex/contrib/optimizers/distributed_fused_adam_v2.py -> build/lib/apex/contrib/optimizers\n",

            "  copying apex/contrib/optimizers/fused_adam.py -> build/lib/apex/contrib/optimizers\n",

            "  copying apex/contrib/optimizers/__init__.py -> build/lib/apex/contrib/optimizers\n",

            "  copying apex/contrib/optimizers/distributed_fused_adam_v3.py -> build/lib/apex/contrib/optimizers\n",

            "  installing to build/bdist.linux-x86_64/wheel\n",

            "  running install\n",

            "  running install_lib\n",

            "  creating build/bdist.linux-x86_64\n",

            "  creating build/bdist.linux-x86_64/wheel\n",

            "  creating build/bdist.linux-x86_64/wheel/apex\n",

            "  creating build/bdist.linux-x86_64/wheel/apex/reparameterization\n",

            "  copying build/lib/apex/reparameterization/weight_norm.py -> build/bdist.linux-x86_64/wheel/apex/reparameterization\n",

            "  copying build/lib/apex/reparameterization/reparameterization.py -> build/bdist.linux-x86_64/wheel/apex/reparameterization\n",

            "  copying build/lib/apex/reparameterization/__init__.py -> build/bdist.linux-x86_64/wheel/apex/reparameterization\n",

            "  creating build/bdist.linux-x86_64/wheel/apex/pyprof\n",

            "  creating build/bdist.linux-x86_64/wheel/apex/pyprof/nvtx\n",

            "  copying build/lib/apex/pyprof/nvtx/nvmarker.py -> build/bdist.linux-x86_64/wheel/apex/pyprof/nvtx\n",

            "  copying build/lib/apex/pyprof/nvtx/__init__.py -> build/bdist.linux-x86_64/wheel/apex/pyprof/nvtx\n",

            "  creating build/bdist.linux-x86_64/wheel/apex/pyprof/prof\n",

            "  copying build/lib/apex/pyprof/prof/reduction.py -> build/bdist.linux-x86_64/wheel/apex/pyprof/prof\n",

            "  copying build/lib/apex/pyprof/prof/conv.py -> build/bdist.linux-x86_64/wheel/apex/pyprof/prof\n",

            "  copying build/lib/apex/pyprof/prof/linear.py -> build/bdist.linux-x86_64/wheel/apex/pyprof/prof\n",

            "  copying build/lib/apex/pyprof/prof/usage.py -> build/bdist.linux-x86_64/wheel/apex/pyprof/prof\n",

            "  copying build/lib/apex/pyprof/prof/output.py -> build/bdist.linux-x86_64/wheel/apex/pyprof/prof\n",

            "  copying build/lib/apex/pyprof/prof/__main__.py -> build/bdist.linux-x86_64/wheel/apex/pyprof/prof\n",

            "  copying build/lib/apex/pyprof/prof/embedding.py -> build/bdist.linux-x86_64/wheel/apex/pyprof/prof\n",

            "  copying build/lib/apex/pyprof/prof/data.py -> build/bdist.linux-x86_64/wheel/apex/pyprof/prof\n",

            "  copying build/lib/apex/pyprof/prof/softmax.py -> build/bdist.linux-x86_64/wheel/apex/pyprof/prof\n",

            "  copying build/lib/apex/pyprof/prof/base.py -> build/bdist.linux-x86_64/wheel/apex/pyprof/prof\n",

            "  copying build/lib/apex/pyprof/prof/randomSample.py -> build/bdist.linux-x86_64/wheel/apex/pyprof/prof\n",

            "  copying build/lib/apex/pyprof/prof/normalization.py -> build/bdist.linux-x86_64/wheel/apex/pyprof/prof\n",

            "  copying build/lib/apex/pyprof/prof/pointwise.py -> build/bdist.linux-x86_64/wheel/apex/pyprof/prof\n",

            "  copying build/lib/apex/pyprof/prof/convert.py -> build/bdist.linux-x86_64/wheel/apex/pyprof/prof\n",

            "  copying build/lib/apex/pyprof/prof/optim.py -> build/bdist.linux-x86_64/wheel/apex/pyprof/prof\n",

            "  copying build/lib/apex/pyprof/prof/prof.py -> build/bdist.linux-x86_64/wheel/apex/pyprof/prof\n",

            "  copying build/lib/apex/pyprof/prof/blas.py -> build/bdist.linux-x86_64/wheel/apex/pyprof/prof\n",

            "  copying build/lib/apex/pyprof/prof/activation.py -> build/bdist.linux-x86_64/wheel/apex/pyprof/prof\n",

            "  copying build/lib/apex/pyprof/prof/recurrentCell.py -> build/bdist.linux-x86_64/wheel/apex/pyprof/prof\n",

            "  copying build/lib/apex/pyprof/prof/__init__.py -> build/bdist.linux-x86_64/wheel/apex/pyprof/prof\n",

            "  copying build/lib/apex/pyprof/prof/misc.py -> build/bdist.linux-x86_64/wheel/apex/pyprof/prof\n",

            "  copying build/lib/apex/pyprof/prof/loss.py -> build/bdist.linux-x86_64/wheel/apex/pyprof/prof\n",

            "  copying build/lib/apex/pyprof/prof/utility.py -> build/bdist.linux-x86_64/wheel/apex/pyprof/prof\n",

            "  copying build/lib/apex/pyprof/prof/pooling.py -> build/bdist.linux-x86_64/wheel/apex/pyprof/prof\n",

            "  copying build/lib/apex/pyprof/prof/dropout.py -> build/bdist.linux-x86_64/wheel/apex/pyprof/prof\n",

            "  copying build/lib/apex/pyprof/prof/index_slice_join_mutate.py -> build/bdist.linux-x86_64/wheel/apex/pyprof/prof\n",

            "  copying build/lib/apex/pyprof/__init__.py -> build/bdist.linux-x86_64/wheel/apex/pyprof\n",

            "  creating build/bdist.linux-x86_64/wheel/apex/pyprof/parse\n",

            "  copying build/lib/apex/pyprof/parse/nvvp.py -> build/bdist.linux-x86_64/wheel/apex/pyprof/parse\n",

            "  copying build/lib/apex/pyprof/parse/__main__.py -> build/bdist.linux-x86_64/wheel/apex/pyprof/parse\n",

            "  copying build/lib/apex/pyprof/parse/parse.py -> build/bdist.linux-x86_64/wheel/apex/pyprof/parse\n",

            "  copying build/lib/apex/pyprof/parse/db.py -> build/bdist.linux-x86_64/wheel/apex/pyprof/parse\n",

            "  copying build/lib/apex/pyprof/parse/kernel.py -> build/bdist.linux-x86_64/wheel/apex/pyprof/parse\n",

            "  copying build/lib/apex/pyprof/parse/__init__.py -> build/bdist.linux-x86_64/wheel/apex/pyprof/parse\n",

            "  creating build/bdist.linux-x86_64/wheel/apex/multi_tensor_apply\n",

            "  copying build/lib/apex/multi_tensor_apply/multi_tensor_apply.py -> build/bdist.linux-x86_64/wheel/apex/multi_tensor_apply\n",

            "  copying build/lib/apex/multi_tensor_apply/__init__.py -> build/bdist.linux-x86_64/wheel/apex/multi_tensor_apply\n",

            "  creating build/bdist.linux-x86_64/wheel/apex/RNN\n",

            "  copying build/lib/apex/RNN/cells.py -> build/bdist.linux-x86_64/wheel/apex/RNN\n",

            "  copying build/lib/apex/RNN/RNNBackend.py -> build/bdist.linux-x86_64/wheel/apex/RNN\n",

            "  copying build/lib/apex/RNN/__init__.py -> build/bdist.linux-x86_64/wheel/apex/RNN\n",

            "  copying build/lib/apex/RNN/models.py -> build/bdist.linux-x86_64/wheel/apex/RNN\n",

            "  creating build/bdist.linux-x86_64/wheel/apex/parallel\n",

            "  copying build/lib/apex/parallel/sync_batchnorm_kernel.py -> build/bdist.linux-x86_64/wheel/apex/parallel\n",

            "  copying build/lib/apex/parallel/LARC.py -> build/bdist.linux-x86_64/wheel/apex/parallel\n",

            "  copying build/lib/apex/parallel/multiproc.py -> build/bdist.linux-x86_64/wheel/apex/parallel\n",

            "  copying build/lib/apex/parallel/optimized_sync_batchnorm_kernel.py -> build/bdist.linux-x86_64/wheel/apex/parallel\n",

            "  copying build/lib/apex/parallel/distributed.py -> build/bdist.linux-x86_64/wheel/apex/parallel\n",

            "  copying build/lib/apex/parallel/__init__.py -> build/bdist.linux-x86_64/wheel/apex/parallel\n",

            "  copying build/lib/apex/parallel/optimized_sync_batchnorm.py -> build/bdist.linux-x86_64/wheel/apex/parallel\n",

            "  copying build/lib/apex/parallel/sync_batchnorm.py -> build/bdist.linux-x86_64/wheel/apex/parallel\n",

            "  creating build/bdist.linux-x86_64/wheel/apex/amp\n",

            "  copying build/lib/apex/amp/handle.py -> build/bdist.linux-x86_64/wheel/apex/amp\n",

            "  copying build/lib/apex/amp/frontend.py -> build/bdist.linux-x86_64/wheel/apex/amp\n",

            "  copying build/lib/apex/amp/_amp_state.py -> build/bdist.linux-x86_64/wheel/apex/amp\n",

            "  copying build/lib/apex/amp/scaler.py -> build/bdist.linux-x86_64/wheel/apex/amp\n",

            "  copying build/lib/apex/amp/_initialize.py -> build/bdist.linux-x86_64/wheel/apex/amp\n",

            "  copying build/lib/apex/amp/wrap.py -> build/bdist.linux-x86_64/wheel/apex/amp\n",

            "  copying build/lib/apex/amp/_process_optimizer.py -> build/bdist.linux-x86_64/wheel/apex/amp\n",

            "  copying build/lib/apex/amp/rnn_compat.py -> build/bdist.linux-x86_64/wheel/apex/amp\n",

            "  copying build/lib/apex/amp/amp.py -> build/bdist.linux-x86_64/wheel/apex/amp\n",

            "  copying build/lib/apex/amp/compat.py -> build/bdist.linux-x86_64/wheel/apex/amp\n",

            "  copying build/lib/apex/amp/utils.py -> build/bdist.linux-x86_64/wheel/apex/amp\n",

            "  copying build/lib/apex/amp/__version__.py -> build/bdist.linux-x86_64/wheel/apex/amp\n",

            "  copying build/lib/apex/amp/__init__.py -> build/bdist.linux-x86_64/wheel/apex/amp\n",

            "  copying build/lib/apex/amp/opt.py -> build/bdist.linux-x86_64/wheel/apex/amp\n",

            "  creating build/bdist.linux-x86_64/wheel/apex/amp/lists\n",

            "  copying build/lib/apex/amp/lists/tensor_overrides.py -> build/bdist.linux-x86_64/wheel/apex/amp/lists\n",

            "  copying build/lib/apex/amp/lists/functional_overrides.py -> build/bdist.linux-x86_64/wheel/apex/amp/lists\n",

            "  copying build/lib/apex/amp/lists/torch_overrides.py -> build/bdist.linux-x86_64/wheel/apex/amp/lists\n",

            "  copying build/lib/apex/amp/lists/__init__.py -> build/bdist.linux-x86_64/wheel/apex/amp/lists\n",

            "  creating build/bdist.linux-x86_64/wheel/apex/mlp\n",

            "  copying build/lib/apex/mlp/mlp.py -> build/bdist.linux-x86_64/wheel/apex/mlp\n",

            "  copying build/lib/apex/mlp/__init__.py -> build/bdist.linux-x86_64/wheel/apex/mlp\n",

            "  creating build/bdist.linux-x86_64/wheel/apex/contrib\n",

            "  creating build/bdist.linux-x86_64/wheel/apex/contrib/xentropy\n",

            "  copying build/lib/apex/contrib/xentropy/__init__.py -> build/bdist.linux-x86_64/wheel/apex/contrib/xentropy\n",

            "  copying build/lib/apex/contrib/xentropy/softmax_xentropy.py -> build/bdist.linux-x86_64/wheel/apex/contrib/xentropy\n",

            "  creating build/bdist.linux-x86_64/wheel/apex/contrib/sparsity\n",

            "  copying build/lib/apex/contrib/sparsity/__init__.py -> build/bdist.linux-x86_64/wheel/apex/contrib/sparsity\n",

            "  copying build/lib/apex/contrib/sparsity/sparse_masklib.py -> build/bdist.linux-x86_64/wheel/apex/contrib/sparsity\n",

            "  copying build/lib/apex/contrib/sparsity/asp.py -> build/bdist.linux-x86_64/wheel/apex/contrib/sparsity\n",

            "  copying build/lib/apex/contrib/__init__.py -> build/bdist.linux-x86_64/wheel/apex/contrib\n",

            "  creating build/bdist.linux-x86_64/wheel/apex/contrib/multihead_attn\n",

            "  copying build/lib/apex/contrib/multihead_attn/self_multihead_attn.py -> build/bdist.linux-x86_64/wheel/apex/contrib/multihead_attn\n",

            "  copying build/lib/apex/contrib/multihead_attn/mask_softmax_dropout_func.py -> build/bdist.linux-x86_64/wheel/apex/contrib/multihead_attn\n",

            "  copying build/lib/apex/contrib/multihead_attn/self_multihead_attn_func.py -> build/bdist.linux-x86_64/wheel/apex/contrib/multihead_attn\n",

            "  copying build/lib/apex/contrib/multihead_attn/encdec_multihead_attn.py -> build/bdist.linux-x86_64/wheel/apex/contrib/multihead_attn\n",

            "  copying build/lib/apex/contrib/multihead_attn/fast_encdec_multihead_attn_func.py -> build/bdist.linux-x86_64/wheel/apex/contrib/multihead_attn\n",

            "  copying build/lib/apex/contrib/multihead_attn/fast_encdec_multihead_attn_norm_add_func.py -> build/bdist.linux-x86_64/wheel/apex/contrib/multihead_attn\n",

            "  copying build/lib/apex/contrib/multihead_attn/fast_self_multihead_attn_func.py -> build/bdist.linux-x86_64/wheel/apex/contrib/multihead_attn\n",

            "  copying build/lib/apex/contrib/multihead_attn/__init__.py -> build/bdist.linux-x86_64/wheel/apex/contrib/multihead_attn\n",

            "  copying build/lib/apex/contrib/multihead_attn/encdec_multihead_attn_func.py -> build/bdist.linux-x86_64/wheel/apex/contrib/multihead_attn\n",

            "  copying build/lib/apex/contrib/multihead_attn/fast_self_multihead_attn_norm_add_func.py -> build/bdist.linux-x86_64/wheel/apex/contrib/multihead_attn\n",

            "  creating build/bdist.linux-x86_64/wheel/apex/contrib/groupbn\n",

            "  copying build/lib/apex/contrib/groupbn/batch_norm.py -> build/bdist.linux-x86_64/wheel/apex/contrib/groupbn\n",

            "  copying build/lib/apex/contrib/groupbn/__init__.py -> build/bdist.linux-x86_64/wheel/apex/contrib/groupbn\n",

            "  creating build/bdist.linux-x86_64/wheel/apex/contrib/optimizers\n",

            "  copying build/lib/apex/contrib/optimizers/distributed_fused_adam.py -> build/bdist.linux-x86_64/wheel/apex/contrib/optimizers\n",

            "  copying build/lib/apex/contrib/optimizers/fused_lamb.py -> build/bdist.linux-x86_64/wheel/apex/contrib/optimizers\n",

            "  copying build/lib/apex/contrib/optimizers/fused_sgd.py -> build/bdist.linux-x86_64/wheel/apex/contrib/optimizers\n",

            "  copying build/lib/apex/contrib/optimizers/distributed_fused_lamb.py -> build/bdist.linux-x86_64/wheel/apex/contrib/optimizers\n",

            "  copying build/lib/apex/contrib/optimizers/fp16_optimizer.py -> build/bdist.linux-x86_64/wheel/apex/contrib/optimizers\n",

            "  copying build/lib/apex/contrib/optimizers/distributed_fused_adam_v2.py -> build/bdist.linux-x86_64/wheel/apex/contrib/optimizers\n",

            "  copying build/lib/apex/contrib/optimizers/fused_adam.py -> build/bdist.linux-x86_64/wheel/apex/contrib/optimizers\n",

            "  copying build/lib/apex/contrib/optimizers/__init__.py -> build/bdist.linux-x86_64/wheel/apex/contrib/optimizers\n",

            "  copying build/lib/apex/contrib/optimizers/distributed_fused_adam_v3.py -> build/bdist.linux-x86_64/wheel/apex/contrib/optimizers\n",

            "  copying build/lib/apex/__init__.py -> build/bdist.linux-x86_64/wheel/apex\n",

            "  creating build/bdist.linux-x86_64/wheel/apex/optimizers\n",

            "  copying build/lib/apex/optimizers/fused_lamb.py -> build/bdist.linux-x86_64/wheel/apex/optimizers\n",

            "  copying build/lib/apex/optimizers/fused_sgd.py -> build/bdist.linux-x86_64/wheel/apex/optimizers\n",

            "  copying build/lib/apex/optimizers/fused_adagrad.py -> build/bdist.linux-x86_64/wheel/apex/optimizers\n",

            "  copying build/lib/apex/optimizers/fused_novograd.py -> build/bdist.linux-x86_64/wheel/apex/optimizers\n",

            "  copying build/lib/apex/optimizers/fused_adam.py -> build/bdist.linux-x86_64/wheel/apex/optimizers\n",

            "  copying build/lib/apex/optimizers/__init__.py -> build/bdist.linux-x86_64/wheel/apex/optimizers\n",

            "  creating build/bdist.linux-x86_64/wheel/apex/normalization\n",

            "  copying build/lib/apex/normalization/fused_layer_norm.py -> build/bdist.linux-x86_64/wheel/apex/normalization\n",

            "  copying build/lib/apex/normalization/__init__.py -> build/bdist.linux-x86_64/wheel/apex/normalization\n",

            "  creating build/bdist.linux-x86_64/wheel/apex/fp16_utils\n",

            "  copying build/lib/apex/fp16_utils/loss_scaler.py -> build/bdist.linux-x86_64/wheel/apex/fp16_utils\n",

            "  copying build/lib/apex/fp16_utils/fp16_optimizer.py -> build/bdist.linux-x86_64/wheel/apex/fp16_utils\n",

            "  copying build/lib/apex/fp16_utils/__init__.py -> build/bdist.linux-x86_64/wheel/apex/fp16_utils\n",

            "  copying build/lib/apex/fp16_utils/fp16util.py -> build/bdist.linux-x86_64/wheel/apex/fp16_utils\n",

            "  running install_egg_info\n",

            "  running egg_info\n",

            "  creating apex.egg-info\n",

            "  writing apex.egg-info/PKG-INFO\n",

            "  writing dependency_links to apex.egg-info/dependency_links.txt\n",

            "  writing top-level names to apex.egg-info/top_level.txt\n",

            "  writing manifest file 'apex.egg-info/SOURCES.txt'\n",

            "  writing manifest file 'apex.egg-info/SOURCES.txt'\n",

            "  Copying apex.egg-info to build/bdist.linux-x86_64/wheel/apex-0.1-py3.6.egg-info\n",

            "  running install_scripts\n",

            "  adding license file \"LICENSE\" (matched pattern \"LICEN[CS]E*\")\n",

            "  creating build/bdist.linux-x86_64/wheel/apex-0.1.dist-info/WHEEL\n",

            "  creating '/tmp/pip-wheel-5uhcb6ds/apex-0.1-cp36-none-any.whl' and adding 'build/bdist.linux-x86_64/wheel' to it\n",

            "  adding 'apex/__init__.py'\n",

            "  adding 'apex/RNN/RNNBackend.py'\n",

            "  adding 'apex/RNN/__init__.py'\n",

            "  adding 'apex/RNN/cells.py'\n",

            "  adding 'apex/RNN/models.py'\n",

            "  adding 'apex/amp/__init__.py'\n",

            "  adding 'apex/amp/__version__.py'\n",

            "  adding 'apex/amp/_amp_state.py'\n",

            "  adding 'apex/amp/_initialize.py'\n",

            "  adding 'apex/amp/_process_optimizer.py'\n",

            "  adding 'apex/amp/amp.py'\n",

            "  adding 'apex/amp/compat.py'\n",

            "  adding 'apex/amp/frontend.py'\n",

            "  adding 'apex/amp/handle.py'\n",

            "  adding 'apex/amp/opt.py'\n",

            "  adding 'apex/amp/rnn_compat.py'\n",

            "  adding 'apex/amp/scaler.py'\n",

            "  adding 'apex/amp/utils.py'\n",

            "  adding 'apex/amp/wrap.py'\n",

            "  adding 'apex/amp/lists/__init__.py'\n",

            "  adding 'apex/amp/lists/functional_overrides.py'\n",

            "  adding 'apex/amp/lists/tensor_overrides.py'\n",

            "  adding 'apex/amp/lists/torch_overrides.py'\n",

            "  adding 'apex/contrib/__init__.py'\n",

            "  adding 'apex/contrib/groupbn/__init__.py'\n",

            "  adding 'apex/contrib/groupbn/batch_norm.py'\n",

            "  adding 'apex/contrib/multihead_attn/__init__.py'\n",

            "  adding 'apex/contrib/multihead_attn/encdec_multihead_attn.py'\n",

            "  adding 'apex/contrib/multihead_attn/encdec_multihead_attn_func.py'\n",

            "  adding 'apex/contrib/multihead_attn/fast_encdec_multihead_attn_func.py'\n",

            "  adding 'apex/contrib/multihead_attn/fast_encdec_multihead_attn_norm_add_func.py'\n",

            "  adding 'apex/contrib/multihead_attn/fast_self_multihead_attn_func.py'\n",

            "  adding 'apex/contrib/multihead_attn/fast_self_multihead_attn_norm_add_func.py'\n",

            "  adding 'apex/contrib/multihead_attn/mask_softmax_dropout_func.py'\n",

            "  adding 'apex/contrib/multihead_attn/self_multihead_attn.py'\n",

            "  adding 'apex/contrib/multihead_attn/self_multihead_attn_func.py'\n",

            "  adding 'apex/contrib/optimizers/__init__.py'\n",

            "  adding 'apex/contrib/optimizers/distributed_fused_adam.py'\n",

            "  adding 'apex/contrib/optimizers/distributed_fused_adam_v2.py'\n",

            "  adding 'apex/contrib/optimizers/distributed_fused_adam_v3.py'\n",

            "  adding 'apex/contrib/optimizers/distributed_fused_lamb.py'\n",

            "  adding 'apex/contrib/optimizers/fp16_optimizer.py'\n",

            "  adding 'apex/contrib/optimizers/fused_adam.py'\n",

            "  adding 'apex/contrib/optimizers/fused_lamb.py'\n",

            "  adding 'apex/contrib/optimizers/fused_sgd.py'\n",

            "  adding 'apex/contrib/sparsity/__init__.py'\n",

            "  adding 'apex/contrib/sparsity/asp.py'\n",

            "  adding 'apex/contrib/sparsity/sparse_masklib.py'\n",

            "  adding 'apex/contrib/xentropy/__init__.py'\n",

            "  adding 'apex/contrib/xentropy/softmax_xentropy.py'\n",

            "  adding 'apex/fp16_utils/__init__.py'\n",

            "  adding 'apex/fp16_utils/fp16_optimizer.py'\n",

            "  adding 'apex/fp16_utils/fp16util.py'\n",

            "  adding 'apex/fp16_utils/loss_scaler.py'\n",

            "  adding 'apex/mlp/__init__.py'\n",

            "  adding 'apex/mlp/mlp.py'\n",

            "  adding 'apex/multi_tensor_apply/__init__.py'\n",

            "  adding 'apex/multi_tensor_apply/multi_tensor_apply.py'\n",

            "  adding 'apex/normalization/__init__.py'\n",

            "  adding 'apex/normalization/fused_layer_norm.py'\n",

            "  adding 'apex/optimizers/__init__.py'\n",

            "  adding 'apex/optimizers/fused_adagrad.py'\n",

            "  adding 'apex/optimizers/fused_adam.py'\n",

            "  adding 'apex/optimizers/fused_lamb.py'\n",

            "  adding 'apex/optimizers/fused_novograd.py'\n",

            "  adding 'apex/optimizers/fused_sgd.py'\n",

            "  adding 'apex/parallel/LARC.py'\n",

            "  adding 'apex/parallel/__init__.py'\n",

            "  adding 'apex/parallel/distributed.py'\n",

            "  adding 'apex/parallel/multiproc.py'\n",

            "  adding 'apex/parallel/optimized_sync_batchnorm.py'\n",

            "  adding 'apex/parallel/optimized_sync_batchnorm_kernel.py'\n",

            "  adding 'apex/parallel/sync_batchnorm.py'\n",

            "  adding 'apex/parallel/sync_batchnorm_kernel.py'\n",

            "  adding 'apex/pyprof/__init__.py'\n",

            "  adding 'apex/pyprof/nvtx/__init__.py'\n",

            "  adding 'apex/pyprof/nvtx/nvmarker.py'\n",

            "  adding 'apex/pyprof/parse/__init__.py'\n",

            "  adding 'apex/pyprof/parse/__main__.py'\n",

            "  adding 'apex/pyprof/parse/db.py'\n",

            "  adding 'apex/pyprof/parse/kernel.py'\n",

            "  adding 'apex/pyprof/parse/nvvp.py'\n",

            "  adding 'apex/pyprof/parse/parse.py'\n",

            "  adding 'apex/pyprof/prof/__init__.py'\n",

            "  adding 'apex/pyprof/prof/__main__.py'\n",

            "  adding 'apex/pyprof/prof/activation.py'\n",

            "  adding 'apex/pyprof/prof/base.py'\n",

            "  adding 'apex/pyprof/prof/blas.py'\n",

            "  adding 'apex/pyprof/prof/conv.py'\n",

            "  adding 'apex/pyprof/prof/convert.py'\n",

            "  adding 'apex/pyprof/prof/data.py'\n",

            "  adding 'apex/pyprof/prof/dropout.py'\n",

            "  adding 'apex/pyprof/prof/embedding.py'\n",

            "  adding 'apex/pyprof/prof/index_slice_join_mutate.py'\n",

            "  adding 'apex/pyprof/prof/linear.py'\n",

            "  adding 'apex/pyprof/prof/loss.py'\n",

            "  adding 'apex/pyprof/prof/misc.py'\n",

            "  adding 'apex/pyprof/prof/normalization.py'\n",

            "  adding 'apex/pyprof/prof/optim.py'\n",

            "  adding 'apex/pyprof/prof/output.py'\n",

            "  adding 'apex/pyprof/prof/pointwise.py'\n",

            "  adding 'apex/pyprof/prof/pooling.py'\n",

            "  adding 'apex/pyprof/prof/prof.py'\n",

            "  adding 'apex/pyprof/prof/randomSample.py'\n",

            "  adding 'apex/pyprof/prof/recurrentCell.py'\n",

            "  adding 'apex/pyprof/prof/reduction.py'\n",

            "  adding 'apex/pyprof/prof/softmax.py'\n",

            "  adding 'apex/pyprof/prof/usage.py'\n",

            "  adding 'apex/pyprof/prof/utility.py'\n",

            "  adding 'apex/reparameterization/__init__.py'\n",

            "  adding 'apex/reparameterization/reparameterization.py'\n",

            "  adding 'apex/reparameterization/weight_norm.py'\n",

            "  adding 'apex-0.1.dist-info/LICENSE'\n",

            "  adding 'apex-0.1.dist-info/METADATA'\n",

            "  adding 'apex-0.1.dist-info/WHEEL'\n",

            "  adding 'apex-0.1.dist-info/top_level.txt'\n",

            "  adding 'apex-0.1.dist-info/RECORD'\n",

            "  removing build/bdist.linux-x86_64/wheel\n",

            "\u001b[?25hdone\n",

            "  Created wheel for apex: filename=apex-0.1-cp36-none-any.whl size=192780 sha256=08a086f1a04846273bd3880144f918ee599c149f22dd3223a7ade29e6a7c6633\n",

            "  Stored in directory: /tmp/pip-ephem-wheel-cache-7bgnx1wm/wheels/b1/3a/aa/d84906eaab780ae580c7a5686a33bf2820d8590ac3b60d5967\n",

            "  Removing source in /tmp/pip-req-build-0ifs7p2f\n",

            "Successfully built apex\n",

            "Installing collected packages: apex\n",

            "\n",

            "Successfully installed apex-0.1\n",

            "Cleaning up...\n",

            "Removed build tracker '/tmp/pip-req-tracker-ua6a5f9h'\n"

          ],

          "name": "stdout"

        }

      ]

    },

    {

      "cell_type": "code",

      "metadata": {

        "id": "gzYs504FPUMw",

        "colab_type": "code",

        "colab": {}

      },

      "source": [

        "os.chdir(\"..\")"

      ],

      "execution_count": null,

      "outputs": []

    },

    {

      "cell_type": "code",

      "metadata": {

        "id": "1ufqBHArCD58",

        "colab_type": "code",

        "colab": {

          "base_uri": "https://localhost:8080/",

          "height": 139

        },

        "outputId": "4c1cac76-b7d2-4cb6-d590-d4dc22c40802"

      },

      "source": [

        "!git clone https://github.com/facebookresearch/TransCoder.git"

      ],

      "execution_count": null,

      "outputs": [

        {

          "output_type": "stream",

          "text": [

            "Cloning into 'TransCoder'...\n",

            "remote: Enumerating objects: 2194, done.\u001b[K\n",

            "remote: Counting objects: 100% (2194/2194), done.\u001b[K\n",

            "remote: Compressing objects: 100% (1106/1106), done.\u001b[K\n",

            "remote: Total 2194 (delta 1088), reused 2191 (delta 1085), pack-reused 0\u001b[K\n",

            "Receiving objects: 100% (2194/2194), 4.03 MiB | 3.60 MiB/s, done.\n",

            "Resolving deltas: 100% (1088/1088), done.\n"

          ],

          "name": "stdout"

        }

      ]

    },

    {

      "cell_type": "code",

      "metadata": {

        "id": "UVKkPhHYGgUO",

        "colab_type": "code",

        "colab": {

          "base_uri": "https://localhost:8080/",

          "height": 208

        },

        "outputId": "6b554a85-4b03-4e76-e63e-ecc9f666d9b5"

      },

      "source": [

        "!wget https://dl.fbaipublicfiles.com/transcoder/model_2.pth"

      ],

      "execution_count": null,

      "outputs": [

        {

          "output_type": "stream",

          "text": [

            "--2020-08-06 15:09:32--  https://dl.fbaipublicfiles.com/transcoder/model_2.pth\n",

            "Resolving dl.fbaipublicfiles.com (dl.fbaipublicfiles.com)... 172.67.9.4, 104.22.75.142, 104.22.74.142, ...\n",

            "Connecting to dl.fbaipublicfiles.com (dl.fbaipublicfiles.com)|172.67.9.4|:443... connected.\n",

            "HTTP request sent, awaiting response... 200 OK\n",

            "Length: 622089114 (593M) [application/octet-stream]\n",

            "Saving to: ‘model_2.pth’\n",

            "\n",

            "model_2.pth         100%[===================>] 593.27M  12.2MB/s    in 50s     \n",

            "\n",

            "2020-08-06 15:10:23 (11.9 MB/s) - ‘model_2.pth’ saved [622089114/622089114]\n",

            "\n"

          ],

          "name": "stdout"

        }

      ]

    },

    {

      "cell_type": "code",

      "metadata": {

        "id": "japt1zVvGl9a",

        "colab_type": "code",

        "colab": {

          "base_uri": "https://localhost:8080/",

          "height": 139

        },

        "outputId": "ae84f973-f227-48f3-89ed-02525c573675"

      },

      "source": [

        "!python TransCoder/translate.py --src_lang python --tgt_lang java \\\\\n",

        "--BPE_path TransCoder/data/BPE_with_comments_codes --model_path model_2.pth < max_inp.py"

      ],

      "execution_count": null,

      "outputs": [

        {

          "output_type": "stream",

          "text": [

            "Loading codes from /content/TransCoder/data/BPE_with_comments_codes ...\n",

            "Read 50000 codes from the codes file.\n",

            "====================\n",

            "public static double maximum ( double a , double b ) {\n",

            "  return a > b ? a : b ;\n",

            "}\n",

            "\n"

          ],

          "name": "stdout"

        }

      ]

    },

    {

      "cell_type": "code",

      "metadata": {

        "id": "1xPAv-7-P9Cg",

        "colab_type": "code",

        "colab": {}

      },

      "source": [

        ""

      ],

      "execution_count": null,

      "outputs": []

    },

    {

      "cell_type": "code",

      "metadata": {

        "id": "zlDCl3_FQXqs",

        "colab_type": "code",

        "colab": {}

      },

      "source": [

        ""

      ],

      "execution_count": null,

      "outputs": []

    }

  ]

}
